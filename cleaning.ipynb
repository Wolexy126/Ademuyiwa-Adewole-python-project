{
 "cells": [
  {
   "cell_type": "markdown",
   "metadata": {},
   "source": [
    "# ANALYSIS OF AIRCRASH "
   ]
  },
  {
   "cell_type": "code",
   "execution_count": 1,
   "metadata": {},
   "outputs": [],
   "source": [
    "import pandas as pd \n",
    "import numpy as np \n",
    "import matplotlib.pyplot as plt \n",
    "import seaborn as sns \n",
    "import streamlit as st\n"
   ]
  },
  {
   "cell_type": "code",
   "execution_count": 2,
   "metadata": {},
   "outputs": [],
   "source": [
    "# import csv file\n",
    "df = pd.read_csv(r\"C:\\Users\\DELL\\Documents\\hiit data analysis\\python\\Data_apps\\Project\\aircrahesFullDataUpdated_2024 (1).csv\")"
   ]
  },
  {
   "cell_type": "code",
   "execution_count": 3,
   "metadata": {},
   "outputs": [
    {
     "data": {
      "text/html": [
       "<div>\n",
       "<style scoped>\n",
       "    .dataframe tbody tr th:only-of-type {\n",
       "        vertical-align: middle;\n",
       "    }\n",
       "\n",
       "    .dataframe tbody tr th {\n",
       "        vertical-align: top;\n",
       "    }\n",
       "\n",
       "    .dataframe thead th {\n",
       "        text-align: right;\n",
       "    }\n",
       "</style>\n",
       "<table border=\"1\" class=\"dataframe\">\n",
       "  <thead>\n",
       "    <tr style=\"text-align: right;\">\n",
       "      <th></th>\n",
       "      <th>Year</th>\n",
       "      <th>Quarter</th>\n",
       "      <th>Month</th>\n",
       "      <th>Day</th>\n",
       "      <th>Country/Region</th>\n",
       "      <th>Aircraft Manufacturer</th>\n",
       "      <th>Aircraft</th>\n",
       "      <th>Location</th>\n",
       "      <th>Operator</th>\n",
       "      <th>Ground</th>\n",
       "      <th>Fatalities (air)</th>\n",
       "      <th>Aboard</th>\n",
       "    </tr>\n",
       "  </thead>\n",
       "  <tbody>\n",
       "    <tr>\n",
       "      <th>0</th>\n",
       "      <td>1970</td>\n",
       "      <td>Qtr 2</td>\n",
       "      <td>April</td>\n",
       "      <td>28</td>\n",
       "      <td>NaN</td>\n",
       "      <td>de Havilland Canada</td>\n",
       "      <td>de Havilland Canada DHC 6 Twin Otter 100VH</td>\n",
       "      <td>Kainatu</td>\n",
       "      <td>Airlines Australia GuineaTrans New</td>\n",
       "      <td>0</td>\n",
       "      <td>8</td>\n",
       "      <td>11</td>\n",
       "    </tr>\n",
       "    <tr>\n",
       "      <th>1</th>\n",
       "      <td>1952</td>\n",
       "      <td>Qtr 2</td>\n",
       "      <td>April</td>\n",
       "      <td>30</td>\n",
       "      <td>NaN</td>\n",
       "      <td>Douglas</td>\n",
       "      <td>Douglas DC 3VT</td>\n",
       "      <td>Delhi</td>\n",
       "      <td>Airways IndiaDeccan</td>\n",
       "      <td>0</td>\n",
       "      <td>9</td>\n",
       "      <td>9</td>\n",
       "    </tr>\n",
       "    <tr>\n",
       "      <th>2</th>\n",
       "      <td>1973</td>\n",
       "      <td>Qtr 2</td>\n",
       "      <td>April</td>\n",
       "      <td>10</td>\n",
       "      <td>NaN</td>\n",
       "      <td>Vickers Vanguard</td>\n",
       "      <td>Vickers Vanguard 952G AXOP</td>\n",
       "      <td>Near Basel</td>\n",
       "      <td>(UK) Airlines International SwitzerlandInvicta</td>\n",
       "      <td>0</td>\n",
       "      <td>108</td>\n",
       "      <td>145</td>\n",
       "    </tr>\n",
       "    <tr>\n",
       "      <th>3</th>\n",
       "      <td>2000</td>\n",
       "      <td>Qtr 2</td>\n",
       "      <td>April</td>\n",
       "      <td>19</td>\n",
       "      <td>'-</td>\n",
       "      <td>Antonov</td>\n",
       "      <td>Antonov AN 8TL</td>\n",
       "      <td>Pepa  -</td>\n",
       "      <td>Airlines Centrafricain</td>\n",
       "      <td>0</td>\n",
       "      <td>24</td>\n",
       "      <td>24</td>\n",
       "    </tr>\n",
       "    <tr>\n",
       "      <th>4</th>\n",
       "      <td>1946</td>\n",
       "      <td>Qtr 2</td>\n",
       "      <td>April</td>\n",
       "      <td>30</td>\n",
       "      <td>'-</td>\n",
       "      <td>Douglas</td>\n",
       "      <td>Douglas C 47A FZ559</td>\n",
       "      <td>Pindi-Khut  -</td>\n",
       "      <td>Force Air Royal</td>\n",
       "      <td>0</td>\n",
       "      <td>12</td>\n",
       "      <td>12</td>\n",
       "    </tr>\n",
       "    <tr>\n",
       "      <th>...</th>\n",
       "      <td>...</td>\n",
       "      <td>...</td>\n",
       "      <td>...</td>\n",
       "      <td>...</td>\n",
       "      <td>...</td>\n",
       "      <td>...</td>\n",
       "      <td>...</td>\n",
       "      <td>...</td>\n",
       "      <td>...</td>\n",
       "      <td>...</td>\n",
       "      <td>...</td>\n",
       "      <td>...</td>\n",
       "    </tr>\n",
       "    <tr>\n",
       "      <th>5030</th>\n",
       "      <td>1980</td>\n",
       "      <td>Qtr 3</td>\n",
       "      <td>September</td>\n",
       "      <td>17</td>\n",
       "      <td>Zaire</td>\n",
       "      <td>De Havilland</td>\n",
       "      <td>de Havilland DHC 5 Buffalo9T</td>\n",
       "      <td>Near Kindu Zaire</td>\n",
       "      <td>Force Air Zairean - Military</td>\n",
       "      <td>0</td>\n",
       "      <td>36</td>\n",
       "      <td>36</td>\n",
       "    </tr>\n",
       "    <tr>\n",
       "      <th>5031</th>\n",
       "      <td>1997</td>\n",
       "      <td>Qtr 3</td>\n",
       "      <td>September</td>\n",
       "      <td>12</td>\n",
       "      <td>Zaire</td>\n",
       "      <td>de Havilland Canada</td>\n",
       "      <td>de Havilland Canada DHC 6 Twin Otter 3009Q</td>\n",
       "      <td>Near Uvira Zaire</td>\n",
       "      <td>Commuter Air TMK</td>\n",
       "      <td>0</td>\n",
       "      <td>22</td>\n",
       "      <td>22</td>\n",
       "    </tr>\n",
       "    <tr>\n",
       "      <th>5032</th>\n",
       "      <td>1984</td>\n",
       "      <td>Qtr 3</td>\n",
       "      <td>September</td>\n",
       "      <td>11</td>\n",
       "      <td>Zaire</td>\n",
       "      <td>Handley Page Dart Herald</td>\n",
       "      <td>Handley Page Dart Herald 2029Q CAH</td>\n",
       "      <td>Near the Kwango River Zaire</td>\n",
       "      <td>Services Aero MMM</td>\n",
       "      <td>0</td>\n",
       "      <td>30</td>\n",
       "      <td>30</td>\n",
       "    </tr>\n",
       "    <tr>\n",
       "      <th>5033</th>\n",
       "      <td>1980</td>\n",
       "      <td>Qtr 3</td>\n",
       "      <td>September</td>\n",
       "      <td>14</td>\n",
       "      <td>Zaire</td>\n",
       "      <td>Lockheed Hercules</td>\n",
       "      <td>Lockheed Hercules C 1309T</td>\n",
       "      <td>Kindu Zaire</td>\n",
       "      <td>Zaïroise Aérienne Force - Military</td>\n",
       "      <td>0</td>\n",
       "      <td>36</td>\n",
       "      <td>36</td>\n",
       "    </tr>\n",
       "    <tr>\n",
       "      <th>5034</th>\n",
       "      <td>1961</td>\n",
       "      <td>Qtr 3</td>\n",
       "      <td>September</td>\n",
       "      <td>17</td>\n",
       "      <td>Zambia</td>\n",
       "      <td>Douglas</td>\n",
       "      <td>Douglas DC 6BSE</td>\n",
       "      <td>Ndola Zambia</td>\n",
       "      <td>Sweden Transair</td>\n",
       "      <td>0</td>\n",
       "      <td>16</td>\n",
       "      <td>16</td>\n",
       "    </tr>\n",
       "  </tbody>\n",
       "</table>\n",
       "<p>5035 rows × 12 columns</p>\n",
       "</div>"
      ],
      "text/plain": [
       "      Year Quarter      Month  Day Country/Region     Aircraft Manufacturer  \\\n",
       "0     1970   Qtr 2      April   28            NaN       de Havilland Canada   \n",
       "1     1952   Qtr 2      April   30            NaN                   Douglas   \n",
       "2     1973   Qtr 2      April   10            NaN          Vickers Vanguard   \n",
       "3     2000   Qtr 2      April   19             '-                   Antonov   \n",
       "4     1946   Qtr 2      April   30             '-                   Douglas   \n",
       "...    ...     ...        ...  ...            ...                       ...   \n",
       "5030  1980   Qtr 3  September   17          Zaire              De Havilland   \n",
       "5031  1997   Qtr 3  September   12          Zaire       de Havilland Canada   \n",
       "5032  1984   Qtr 3  September   11          Zaire  Handley Page Dart Herald   \n",
       "5033  1980   Qtr 3  September   14          Zaire         Lockheed Hercules   \n",
       "5034  1961   Qtr 3  September   17         Zambia                   Douglas   \n",
       "\n",
       "                                        Aircraft                     Location  \\\n",
       "0     de Havilland Canada DHC 6 Twin Otter 100VH                      Kainatu   \n",
       "1                                 Douglas DC 3VT                        Delhi   \n",
       "2                     Vickers Vanguard 952G AXOP                   Near Basel   \n",
       "3                                 Antonov AN 8TL                      Pepa  -   \n",
       "4                            Douglas C 47A FZ559                Pindi-Khut  -   \n",
       "...                                          ...                          ...   \n",
       "5030                de Havilland DHC 5 Buffalo9T             Near Kindu Zaire   \n",
       "5031  de Havilland Canada DHC 6 Twin Otter 3009Q             Near Uvira Zaire   \n",
       "5032          Handley Page Dart Herald 2029Q CAH  Near the Kwango River Zaire   \n",
       "5033                   Lockheed Hercules C 1309T                  Kindu Zaire   \n",
       "5034                             Douglas DC 6BSE                 Ndola Zambia   \n",
       "\n",
       "                                            Operator  Ground  \\\n",
       "0                 Airlines Australia GuineaTrans New       0   \n",
       "1                                Airways IndiaDeccan       0   \n",
       "2     (UK) Airlines International SwitzerlandInvicta       0   \n",
       "3                             Airlines Centrafricain       0   \n",
       "4                                    Force Air Royal       0   \n",
       "...                                              ...     ...   \n",
       "5030                    Force Air Zairean - Military       0   \n",
       "5031                                Commuter Air TMK       0   \n",
       "5032                               Services Aero MMM       0   \n",
       "5033              Zaïroise Aérienne Force - Military       0   \n",
       "5034                                 Sweden Transair       0   \n",
       "\n",
       "      Fatalities (air)  Aboard  \n",
       "0                    8      11  \n",
       "1                    9       9  \n",
       "2                  108     145  \n",
       "3                   24      24  \n",
       "4                   12      12  \n",
       "...                ...     ...  \n",
       "5030                36      36  \n",
       "5031                22      22  \n",
       "5032                30      30  \n",
       "5033                36      36  \n",
       "5034                16      16  \n",
       "\n",
       "[5035 rows x 12 columns]"
      ]
     },
     "execution_count": 3,
     "metadata": {},
     "output_type": "execute_result"
    }
   ],
   "source": [
    "df"
   ]
  },
  {
   "cell_type": "markdown",
   "metadata": {},
   "source": [
    "# DATA CLEANING"
   ]
  },
  {
   "cell_type": "code",
   "execution_count": 4,
   "metadata": {},
   "outputs": [
    {
     "name": "stdout",
     "output_type": "stream",
     "text": [
      "<class 'pandas.core.frame.DataFrame'>\n",
      "RangeIndex: 5035 entries, 0 to 5034\n",
      "Data columns (total 12 columns):\n",
      " #   Column                 Non-Null Count  Dtype \n",
      "---  ------                 --------------  ----- \n",
      " 0   Year                   5035 non-null   int64 \n",
      " 1   Quarter                5035 non-null   object\n",
      " 2   Month                  5035 non-null   object\n",
      " 3   Day                    5035 non-null   int64 \n",
      " 4   Country/Region         4805 non-null   object\n",
      " 5   Aircraft Manufacturer  5035 non-null   object\n",
      " 6   Aircraft               5035 non-null   object\n",
      " 7   Location               5035 non-null   object\n",
      " 8   Operator               4801 non-null   object\n",
      " 9   Ground                 5035 non-null   int64 \n",
      " 10  Fatalities (air)       5035 non-null   int64 \n",
      " 11  Aboard                 5035 non-null   int64 \n",
      "dtypes: int64(5), object(7)\n",
      "memory usage: 472.2+ KB\n"
     ]
    }
   ],
   "source": [
    "df.info()"
   ]
  },
  {
   "cell_type": "code",
   "execution_count": 5,
   "metadata": {},
   "outputs": [
    {
     "data": {
      "text/plain": [
       "Year                       0\n",
       "Quarter                    0\n",
       "Month                      0\n",
       "Day                        0\n",
       "Country/Region           230\n",
       "Aircraft Manufacturer      0\n",
       "Aircraft                   0\n",
       "Location                   0\n",
       "Operator                 234\n",
       "Ground                     0\n",
       "Fatalities (air)           0\n",
       "Aboard                     0\n",
       "dtype: int64"
      ]
     },
     "execution_count": 5,
     "metadata": {},
     "output_type": "execute_result"
    }
   ],
   "source": [
    "# checking for nan values\n",
    "df.isnull().sum()\n"
   ]
  },
  {
   "cell_type": "code",
   "execution_count": 6,
   "metadata": {},
   "outputs": [],
   "source": [
    "# filling some unknown signs with nan value \n",
    "df['Country/Region'] = df['Country/Region'].replace('-', pd.NA)\n",
    "\n",
    "# filling the nan values with unknown\n",
    "df['Country/Region'] = df['Country/Region'].fillna('unknown')\n",
    "df['Operator'] = df['Operator'].fillna('unknown')\n"
   ]
  },
  {
   "cell_type": "code",
   "execution_count": 7,
   "metadata": {},
   "outputs": [
    {
     "name": "stdout",
     "output_type": "stream",
     "text": [
      "0\n"
     ]
    }
   ],
   "source": [
    "# check for duplicate\n",
    "duplicate_count = df.duplicated().sum()\n",
    "print(duplicate_count)"
   ]
  },
  {
   "cell_type": "code",
   "execution_count": 8,
   "metadata": {},
   "outputs": [],
   "source": [
    "# adding a new column for more graphs\n",
    "df['Decade']=(df['Year']//10)*10"
   ]
  },
  {
   "cell_type": "code",
   "execution_count": 9,
   "metadata": {},
   "outputs": [
    {
     "data": {
      "text/html": [
       "<div>\n",
       "<style scoped>\n",
       "    .dataframe tbody tr th:only-of-type {\n",
       "        vertical-align: middle;\n",
       "    }\n",
       "\n",
       "    .dataframe tbody tr th {\n",
       "        vertical-align: top;\n",
       "    }\n",
       "\n",
       "    .dataframe thead th {\n",
       "        text-align: right;\n",
       "    }\n",
       "</style>\n",
       "<table border=\"1\" class=\"dataframe\">\n",
       "  <thead>\n",
       "    <tr style=\"text-align: right;\">\n",
       "      <th></th>\n",
       "      <th>Year</th>\n",
       "      <th>Quarter</th>\n",
       "      <th>Month</th>\n",
       "      <th>Day</th>\n",
       "      <th>Country/Region</th>\n",
       "      <th>Aircraft Manufacturer</th>\n",
       "      <th>Aircraft</th>\n",
       "      <th>Location</th>\n",
       "      <th>Operator</th>\n",
       "      <th>Ground</th>\n",
       "      <th>Fatalities (air)</th>\n",
       "      <th>Aboard</th>\n",
       "      <th>Decade</th>\n",
       "    </tr>\n",
       "  </thead>\n",
       "  <tbody>\n",
       "    <tr>\n",
       "      <th>0</th>\n",
       "      <td>1970</td>\n",
       "      <td>Qtr 2</td>\n",
       "      <td>April</td>\n",
       "      <td>28</td>\n",
       "      <td>unknown</td>\n",
       "      <td>de Havilland Canada</td>\n",
       "      <td>de Havilland Canada DHC 6 Twin Otter 100VH</td>\n",
       "      <td>Kainatu</td>\n",
       "      <td>Airlines Australia GuineaTrans New</td>\n",
       "      <td>0</td>\n",
       "      <td>8</td>\n",
       "      <td>11</td>\n",
       "      <td>1970</td>\n",
       "    </tr>\n",
       "    <tr>\n",
       "      <th>1</th>\n",
       "      <td>1952</td>\n",
       "      <td>Qtr 2</td>\n",
       "      <td>April</td>\n",
       "      <td>30</td>\n",
       "      <td>unknown</td>\n",
       "      <td>Douglas</td>\n",
       "      <td>Douglas DC 3VT</td>\n",
       "      <td>Delhi</td>\n",
       "      <td>Airways IndiaDeccan</td>\n",
       "      <td>0</td>\n",
       "      <td>9</td>\n",
       "      <td>9</td>\n",
       "      <td>1950</td>\n",
       "    </tr>\n",
       "    <tr>\n",
       "      <th>2</th>\n",
       "      <td>1973</td>\n",
       "      <td>Qtr 2</td>\n",
       "      <td>April</td>\n",
       "      <td>10</td>\n",
       "      <td>unknown</td>\n",
       "      <td>Vickers Vanguard</td>\n",
       "      <td>Vickers Vanguard 952G AXOP</td>\n",
       "      <td>Near Basel</td>\n",
       "      <td>(UK) Airlines International SwitzerlandInvicta</td>\n",
       "      <td>0</td>\n",
       "      <td>108</td>\n",
       "      <td>145</td>\n",
       "      <td>1970</td>\n",
       "    </tr>\n",
       "    <tr>\n",
       "      <th>3</th>\n",
       "      <td>2000</td>\n",
       "      <td>Qtr 2</td>\n",
       "      <td>April</td>\n",
       "      <td>19</td>\n",
       "      <td>'-</td>\n",
       "      <td>Antonov</td>\n",
       "      <td>Antonov AN 8TL</td>\n",
       "      <td>Pepa  -</td>\n",
       "      <td>Airlines Centrafricain</td>\n",
       "      <td>0</td>\n",
       "      <td>24</td>\n",
       "      <td>24</td>\n",
       "      <td>2000</td>\n",
       "    </tr>\n",
       "    <tr>\n",
       "      <th>4</th>\n",
       "      <td>1946</td>\n",
       "      <td>Qtr 2</td>\n",
       "      <td>April</td>\n",
       "      <td>30</td>\n",
       "      <td>'-</td>\n",
       "      <td>Douglas</td>\n",
       "      <td>Douglas C 47A FZ559</td>\n",
       "      <td>Pindi-Khut  -</td>\n",
       "      <td>Force Air Royal</td>\n",
       "      <td>0</td>\n",
       "      <td>12</td>\n",
       "      <td>12</td>\n",
       "      <td>1940</td>\n",
       "    </tr>\n",
       "    <tr>\n",
       "      <th>...</th>\n",
       "      <td>...</td>\n",
       "      <td>...</td>\n",
       "      <td>...</td>\n",
       "      <td>...</td>\n",
       "      <td>...</td>\n",
       "      <td>...</td>\n",
       "      <td>...</td>\n",
       "      <td>...</td>\n",
       "      <td>...</td>\n",
       "      <td>...</td>\n",
       "      <td>...</td>\n",
       "      <td>...</td>\n",
       "      <td>...</td>\n",
       "    </tr>\n",
       "    <tr>\n",
       "      <th>5030</th>\n",
       "      <td>1980</td>\n",
       "      <td>Qtr 3</td>\n",
       "      <td>September</td>\n",
       "      <td>17</td>\n",
       "      <td>Zaire</td>\n",
       "      <td>De Havilland</td>\n",
       "      <td>de Havilland DHC 5 Buffalo9T</td>\n",
       "      <td>Near Kindu Zaire</td>\n",
       "      <td>Force Air Zairean - Military</td>\n",
       "      <td>0</td>\n",
       "      <td>36</td>\n",
       "      <td>36</td>\n",
       "      <td>1980</td>\n",
       "    </tr>\n",
       "    <tr>\n",
       "      <th>5031</th>\n",
       "      <td>1997</td>\n",
       "      <td>Qtr 3</td>\n",
       "      <td>September</td>\n",
       "      <td>12</td>\n",
       "      <td>Zaire</td>\n",
       "      <td>de Havilland Canada</td>\n",
       "      <td>de Havilland Canada DHC 6 Twin Otter 3009Q</td>\n",
       "      <td>Near Uvira Zaire</td>\n",
       "      <td>Commuter Air TMK</td>\n",
       "      <td>0</td>\n",
       "      <td>22</td>\n",
       "      <td>22</td>\n",
       "      <td>1990</td>\n",
       "    </tr>\n",
       "    <tr>\n",
       "      <th>5032</th>\n",
       "      <td>1984</td>\n",
       "      <td>Qtr 3</td>\n",
       "      <td>September</td>\n",
       "      <td>11</td>\n",
       "      <td>Zaire</td>\n",
       "      <td>Handley Page Dart Herald</td>\n",
       "      <td>Handley Page Dart Herald 2029Q CAH</td>\n",
       "      <td>Near the Kwango River Zaire</td>\n",
       "      <td>Services Aero MMM</td>\n",
       "      <td>0</td>\n",
       "      <td>30</td>\n",
       "      <td>30</td>\n",
       "      <td>1980</td>\n",
       "    </tr>\n",
       "    <tr>\n",
       "      <th>5033</th>\n",
       "      <td>1980</td>\n",
       "      <td>Qtr 3</td>\n",
       "      <td>September</td>\n",
       "      <td>14</td>\n",
       "      <td>Zaire</td>\n",
       "      <td>Lockheed Hercules</td>\n",
       "      <td>Lockheed Hercules C 1309T</td>\n",
       "      <td>Kindu Zaire</td>\n",
       "      <td>Zaïroise Aérienne Force - Military</td>\n",
       "      <td>0</td>\n",
       "      <td>36</td>\n",
       "      <td>36</td>\n",
       "      <td>1980</td>\n",
       "    </tr>\n",
       "    <tr>\n",
       "      <th>5034</th>\n",
       "      <td>1961</td>\n",
       "      <td>Qtr 3</td>\n",
       "      <td>September</td>\n",
       "      <td>17</td>\n",
       "      <td>Zambia</td>\n",
       "      <td>Douglas</td>\n",
       "      <td>Douglas DC 6BSE</td>\n",
       "      <td>Ndola Zambia</td>\n",
       "      <td>Sweden Transair</td>\n",
       "      <td>0</td>\n",
       "      <td>16</td>\n",
       "      <td>16</td>\n",
       "      <td>1960</td>\n",
       "    </tr>\n",
       "  </tbody>\n",
       "</table>\n",
       "<p>5035 rows × 13 columns</p>\n",
       "</div>"
      ],
      "text/plain": [
       "      Year Quarter      Month  Day Country/Region     Aircraft Manufacturer  \\\n",
       "0     1970   Qtr 2      April   28        unknown       de Havilland Canada   \n",
       "1     1952   Qtr 2      April   30        unknown                   Douglas   \n",
       "2     1973   Qtr 2      April   10        unknown          Vickers Vanguard   \n",
       "3     2000   Qtr 2      April   19             '-                   Antonov   \n",
       "4     1946   Qtr 2      April   30             '-                   Douglas   \n",
       "...    ...     ...        ...  ...            ...                       ...   \n",
       "5030  1980   Qtr 3  September   17          Zaire              De Havilland   \n",
       "5031  1997   Qtr 3  September   12          Zaire       de Havilland Canada   \n",
       "5032  1984   Qtr 3  September   11          Zaire  Handley Page Dart Herald   \n",
       "5033  1980   Qtr 3  September   14          Zaire         Lockheed Hercules   \n",
       "5034  1961   Qtr 3  September   17         Zambia                   Douglas   \n",
       "\n",
       "                                        Aircraft                     Location  \\\n",
       "0     de Havilland Canada DHC 6 Twin Otter 100VH                      Kainatu   \n",
       "1                                 Douglas DC 3VT                        Delhi   \n",
       "2                     Vickers Vanguard 952G AXOP                   Near Basel   \n",
       "3                                 Antonov AN 8TL                      Pepa  -   \n",
       "4                            Douglas C 47A FZ559                Pindi-Khut  -   \n",
       "...                                          ...                          ...   \n",
       "5030                de Havilland DHC 5 Buffalo9T             Near Kindu Zaire   \n",
       "5031  de Havilland Canada DHC 6 Twin Otter 3009Q             Near Uvira Zaire   \n",
       "5032          Handley Page Dart Herald 2029Q CAH  Near the Kwango River Zaire   \n",
       "5033                   Lockheed Hercules C 1309T                  Kindu Zaire   \n",
       "5034                             Douglas DC 6BSE                 Ndola Zambia   \n",
       "\n",
       "                                            Operator  Ground  \\\n",
       "0                 Airlines Australia GuineaTrans New       0   \n",
       "1                                Airways IndiaDeccan       0   \n",
       "2     (UK) Airlines International SwitzerlandInvicta       0   \n",
       "3                             Airlines Centrafricain       0   \n",
       "4                                    Force Air Royal       0   \n",
       "...                                              ...     ...   \n",
       "5030                    Force Air Zairean - Military       0   \n",
       "5031                                Commuter Air TMK       0   \n",
       "5032                               Services Aero MMM       0   \n",
       "5033              Zaïroise Aérienne Force - Military       0   \n",
       "5034                                 Sweden Transair       0   \n",
       "\n",
       "      Fatalities (air)  Aboard  Decade  \n",
       "0                    8      11    1970  \n",
       "1                    9       9    1950  \n",
       "2                  108     145    1970  \n",
       "3                   24      24    2000  \n",
       "4                   12      12    1940  \n",
       "...                ...     ...     ...  \n",
       "5030                36      36    1980  \n",
       "5031                22      22    1990  \n",
       "5032                30      30    1980  \n",
       "5033                36      36    1980  \n",
       "5034                16      16    1960  \n",
       "\n",
       "[5035 rows x 13 columns]"
      ]
     },
     "execution_count": 9,
     "metadata": {},
     "output_type": "execute_result"
    }
   ],
   "source": [
    "df"
   ]
  },
  {
   "cell_type": "code",
   "execution_count": 10,
   "metadata": {},
   "outputs": [],
   "source": [
    "#merging year day and month\n",
    "df['Date'] = df['Year'].astype(str) + '-' + df['Month'].astype(str) + '-' + df['Day'].astype(str)"
   ]
  },
  {
   "cell_type": "code",
   "execution_count": 11,
   "metadata": {},
   "outputs": [],
   "source": [
    "# drop year month and date columns\n",
    "df.drop(['Year', 'Month', 'Day'],axis=1, inplace=True)"
   ]
  },
  {
   "cell_type": "code",
   "execution_count": 12,
   "metadata": {},
   "outputs": [
    {
     "name": "stdout",
     "output_type": "stream",
     "text": [
      "<class 'pandas.core.frame.DataFrame'>\n",
      "RangeIndex: 5035 entries, 0 to 5034\n",
      "Data columns (total 11 columns):\n",
      " #   Column                 Non-Null Count  Dtype \n",
      "---  ------                 --------------  ----- \n",
      " 0   Quarter                5035 non-null   object\n",
      " 1   Country/Region         5035 non-null   object\n",
      " 2   Aircraft Manufacturer  5035 non-null   object\n",
      " 3   Aircraft               5035 non-null   object\n",
      " 4   Location               5035 non-null   object\n",
      " 5   Operator               5035 non-null   object\n",
      " 6   Ground                 5035 non-null   int64 \n",
      " 7   Fatalities (air)       5035 non-null   int64 \n",
      " 8   Aboard                 5035 non-null   int64 \n",
      " 9   Decade                 5035 non-null   int64 \n",
      " 10  Date                   5035 non-null   object\n",
      "dtypes: int64(4), object(7)\n",
      "memory usage: 432.8+ KB\n"
     ]
    }
   ],
   "source": [
    "df.info()"
   ]
  },
  {
   "cell_type": "code",
   "execution_count": 13,
   "metadata": {},
   "outputs": [
    {
     "name": "stdout",
     "output_type": "stream",
     "text": [
      "<class 'pandas.core.frame.DataFrame'>\n",
      "RangeIndex: 5035 entries, 0 to 5034\n",
      "Data columns (total 11 columns):\n",
      " #   Column                 Non-Null Count  Dtype \n",
      "---  ------                 --------------  ----- \n",
      " 0   Quarter                5035 non-null   object\n",
      " 1   Country/Region         5035 non-null   object\n",
      " 2   Aircraft Manufacturer  5035 non-null   object\n",
      " 3   Aircraft               5035 non-null   object\n",
      " 4   Location               5035 non-null   object\n",
      " 5   Operator               5035 non-null   object\n",
      " 6   Ground                 5035 non-null   int64 \n",
      " 7   Fatalities (air)       5035 non-null   int64 \n",
      " 8   Aboard                 5035 non-null   int64 \n",
      " 9   Decade                 5035 non-null   int64 \n",
      " 10  Date                   5035 non-null   object\n",
      "dtypes: int64(4), object(7)\n",
      "memory usage: 432.8+ KB\n"
     ]
    }
   ],
   "source": [
    "df.info()"
   ]
  },
  {
   "cell_type": "code",
   "execution_count": 14,
   "metadata": {},
   "outputs": [
    {
     "data": {
      "text/html": [
       "<div>\n",
       "<style scoped>\n",
       "    .dataframe tbody tr th:only-of-type {\n",
       "        vertical-align: middle;\n",
       "    }\n",
       "\n",
       "    .dataframe tbody tr th {\n",
       "        vertical-align: top;\n",
       "    }\n",
       "\n",
       "    .dataframe thead th {\n",
       "        text-align: right;\n",
       "    }\n",
       "</style>\n",
       "<table border=\"1\" class=\"dataframe\">\n",
       "  <thead>\n",
       "    <tr style=\"text-align: right;\">\n",
       "      <th></th>\n",
       "      <th>Quarter</th>\n",
       "      <th>Country/Region</th>\n",
       "      <th>Aircraft Manufacturer</th>\n",
       "      <th>Aircraft</th>\n",
       "      <th>Location</th>\n",
       "      <th>Operator</th>\n",
       "      <th>Ground</th>\n",
       "      <th>Fatalities (air)</th>\n",
       "      <th>Aboard</th>\n",
       "      <th>Decade</th>\n",
       "      <th>Date</th>\n",
       "    </tr>\n",
       "  </thead>\n",
       "  <tbody>\n",
       "    <tr>\n",
       "      <th>0</th>\n",
       "      <td>Qtr 2</td>\n",
       "      <td>unknown</td>\n",
       "      <td>de Havilland Canada</td>\n",
       "      <td>de Havilland Canada DHC 6 Twin Otter 100VH</td>\n",
       "      <td>Kainatu</td>\n",
       "      <td>Airlines Australia GuineaTrans New</td>\n",
       "      <td>0</td>\n",
       "      <td>8</td>\n",
       "      <td>11</td>\n",
       "      <td>1970</td>\n",
       "      <td>1970-April-28</td>\n",
       "    </tr>\n",
       "    <tr>\n",
       "      <th>1</th>\n",
       "      <td>Qtr 2</td>\n",
       "      <td>unknown</td>\n",
       "      <td>Douglas</td>\n",
       "      <td>Douglas DC 3VT</td>\n",
       "      <td>Delhi</td>\n",
       "      <td>Airways IndiaDeccan</td>\n",
       "      <td>0</td>\n",
       "      <td>9</td>\n",
       "      <td>9</td>\n",
       "      <td>1950</td>\n",
       "      <td>1952-April-30</td>\n",
       "    </tr>\n",
       "    <tr>\n",
       "      <th>2</th>\n",
       "      <td>Qtr 2</td>\n",
       "      <td>unknown</td>\n",
       "      <td>Vickers Vanguard</td>\n",
       "      <td>Vickers Vanguard 952G AXOP</td>\n",
       "      <td>Near Basel</td>\n",
       "      <td>(UK) Airlines International SwitzerlandInvicta</td>\n",
       "      <td>0</td>\n",
       "      <td>108</td>\n",
       "      <td>145</td>\n",
       "      <td>1970</td>\n",
       "      <td>1973-April-10</td>\n",
       "    </tr>\n",
       "    <tr>\n",
       "      <th>3</th>\n",
       "      <td>Qtr 2</td>\n",
       "      <td>'-</td>\n",
       "      <td>Antonov</td>\n",
       "      <td>Antonov AN 8TL</td>\n",
       "      <td>Pepa  -</td>\n",
       "      <td>Airlines Centrafricain</td>\n",
       "      <td>0</td>\n",
       "      <td>24</td>\n",
       "      <td>24</td>\n",
       "      <td>2000</td>\n",
       "      <td>2000-April-19</td>\n",
       "    </tr>\n",
       "    <tr>\n",
       "      <th>4</th>\n",
       "      <td>Qtr 2</td>\n",
       "      <td>'-</td>\n",
       "      <td>Douglas</td>\n",
       "      <td>Douglas C 47A FZ559</td>\n",
       "      <td>Pindi-Khut  -</td>\n",
       "      <td>Force Air Royal</td>\n",
       "      <td>0</td>\n",
       "      <td>12</td>\n",
       "      <td>12</td>\n",
       "      <td>1940</td>\n",
       "      <td>1946-April-30</td>\n",
       "    </tr>\n",
       "    <tr>\n",
       "      <th>...</th>\n",
       "      <td>...</td>\n",
       "      <td>...</td>\n",
       "      <td>...</td>\n",
       "      <td>...</td>\n",
       "      <td>...</td>\n",
       "      <td>...</td>\n",
       "      <td>...</td>\n",
       "      <td>...</td>\n",
       "      <td>...</td>\n",
       "      <td>...</td>\n",
       "      <td>...</td>\n",
       "    </tr>\n",
       "    <tr>\n",
       "      <th>5030</th>\n",
       "      <td>Qtr 3</td>\n",
       "      <td>Zaire</td>\n",
       "      <td>De Havilland</td>\n",
       "      <td>de Havilland DHC 5 Buffalo9T</td>\n",
       "      <td>Near Kindu Zaire</td>\n",
       "      <td>Force Air Zairean - Military</td>\n",
       "      <td>0</td>\n",
       "      <td>36</td>\n",
       "      <td>36</td>\n",
       "      <td>1980</td>\n",
       "      <td>1980-September-17</td>\n",
       "    </tr>\n",
       "    <tr>\n",
       "      <th>5031</th>\n",
       "      <td>Qtr 3</td>\n",
       "      <td>Zaire</td>\n",
       "      <td>de Havilland Canada</td>\n",
       "      <td>de Havilland Canada DHC 6 Twin Otter 3009Q</td>\n",
       "      <td>Near Uvira Zaire</td>\n",
       "      <td>Commuter Air TMK</td>\n",
       "      <td>0</td>\n",
       "      <td>22</td>\n",
       "      <td>22</td>\n",
       "      <td>1990</td>\n",
       "      <td>1997-September-12</td>\n",
       "    </tr>\n",
       "    <tr>\n",
       "      <th>5032</th>\n",
       "      <td>Qtr 3</td>\n",
       "      <td>Zaire</td>\n",
       "      <td>Handley Page Dart Herald</td>\n",
       "      <td>Handley Page Dart Herald 2029Q CAH</td>\n",
       "      <td>Near the Kwango River Zaire</td>\n",
       "      <td>Services Aero MMM</td>\n",
       "      <td>0</td>\n",
       "      <td>30</td>\n",
       "      <td>30</td>\n",
       "      <td>1980</td>\n",
       "      <td>1984-September-11</td>\n",
       "    </tr>\n",
       "    <tr>\n",
       "      <th>5033</th>\n",
       "      <td>Qtr 3</td>\n",
       "      <td>Zaire</td>\n",
       "      <td>Lockheed Hercules</td>\n",
       "      <td>Lockheed Hercules C 1309T</td>\n",
       "      <td>Kindu Zaire</td>\n",
       "      <td>Zaïroise Aérienne Force - Military</td>\n",
       "      <td>0</td>\n",
       "      <td>36</td>\n",
       "      <td>36</td>\n",
       "      <td>1980</td>\n",
       "      <td>1980-September-14</td>\n",
       "    </tr>\n",
       "    <tr>\n",
       "      <th>5034</th>\n",
       "      <td>Qtr 3</td>\n",
       "      <td>Zambia</td>\n",
       "      <td>Douglas</td>\n",
       "      <td>Douglas DC 6BSE</td>\n",
       "      <td>Ndola Zambia</td>\n",
       "      <td>Sweden Transair</td>\n",
       "      <td>0</td>\n",
       "      <td>16</td>\n",
       "      <td>16</td>\n",
       "      <td>1960</td>\n",
       "      <td>1961-September-17</td>\n",
       "    </tr>\n",
       "  </tbody>\n",
       "</table>\n",
       "<p>5035 rows × 11 columns</p>\n",
       "</div>"
      ],
      "text/plain": [
       "     Quarter Country/Region     Aircraft Manufacturer  \\\n",
       "0      Qtr 2        unknown       de Havilland Canada   \n",
       "1      Qtr 2        unknown                   Douglas   \n",
       "2      Qtr 2        unknown          Vickers Vanguard   \n",
       "3      Qtr 2             '-                   Antonov   \n",
       "4      Qtr 2             '-                   Douglas   \n",
       "...      ...            ...                       ...   \n",
       "5030   Qtr 3          Zaire              De Havilland   \n",
       "5031   Qtr 3          Zaire       de Havilland Canada   \n",
       "5032   Qtr 3          Zaire  Handley Page Dart Herald   \n",
       "5033   Qtr 3          Zaire         Lockheed Hercules   \n",
       "5034   Qtr 3         Zambia                   Douglas   \n",
       "\n",
       "                                        Aircraft                     Location  \\\n",
       "0     de Havilland Canada DHC 6 Twin Otter 100VH                      Kainatu   \n",
       "1                                 Douglas DC 3VT                        Delhi   \n",
       "2                     Vickers Vanguard 952G AXOP                   Near Basel   \n",
       "3                                 Antonov AN 8TL                      Pepa  -   \n",
       "4                            Douglas C 47A FZ559                Pindi-Khut  -   \n",
       "...                                          ...                          ...   \n",
       "5030                de Havilland DHC 5 Buffalo9T             Near Kindu Zaire   \n",
       "5031  de Havilland Canada DHC 6 Twin Otter 3009Q             Near Uvira Zaire   \n",
       "5032          Handley Page Dart Herald 2029Q CAH  Near the Kwango River Zaire   \n",
       "5033                   Lockheed Hercules C 1309T                  Kindu Zaire   \n",
       "5034                             Douglas DC 6BSE                 Ndola Zambia   \n",
       "\n",
       "                                            Operator  Ground  \\\n",
       "0                 Airlines Australia GuineaTrans New       0   \n",
       "1                                Airways IndiaDeccan       0   \n",
       "2     (UK) Airlines International SwitzerlandInvicta       0   \n",
       "3                             Airlines Centrafricain       0   \n",
       "4                                    Force Air Royal       0   \n",
       "...                                              ...     ...   \n",
       "5030                    Force Air Zairean - Military       0   \n",
       "5031                                Commuter Air TMK       0   \n",
       "5032                               Services Aero MMM       0   \n",
       "5033              Zaïroise Aérienne Force - Military       0   \n",
       "5034                                 Sweden Transair       0   \n",
       "\n",
       "      Fatalities (air)  Aboard  Decade               Date  \n",
       "0                    8      11    1970      1970-April-28  \n",
       "1                    9       9    1950      1952-April-30  \n",
       "2                  108     145    1970      1973-April-10  \n",
       "3                   24      24    2000      2000-April-19  \n",
       "4                   12      12    1940      1946-April-30  \n",
       "...                ...     ...     ...                ...  \n",
       "5030                36      36    1980  1980-September-17  \n",
       "5031                22      22    1990  1997-September-12  \n",
       "5032                30      30    1980  1984-September-11  \n",
       "5033                36      36    1980  1980-September-14  \n",
       "5034                16      16    1960  1961-September-17  \n",
       "\n",
       "[5035 rows x 11 columns]"
      ]
     },
     "execution_count": 14,
     "metadata": {},
     "output_type": "execute_result"
    }
   ],
   "source": [
    "df"
   ]
  },
  {
   "cell_type": "markdown",
   "metadata": {},
   "source": [
    "## RESEARCH QUESTIONS"
   ]
  },
  {
   "cell_type": "code",
   "execution_count": 15,
   "metadata": {},
   "outputs": [
    {
     "data": {
      "text/plain": [
       "np.int64(111872)"
      ]
     },
     "execution_count": 15,
     "metadata": {},
     "output_type": "execute_result"
    }
   ],
   "source": [
    "# Total Number of fatalities from 1900 till date \n",
    "df['Fatalities (air)'].sum()"
   ]
  },
  {
   "cell_type": "code",
   "execution_count": 16,
   "metadata": {},
   "outputs": [
    {
     "data": {
      "text/plain": [
       "np.int64(8582)"
      ]
     },
     "execution_count": 16,
     "metadata": {},
     "output_type": "execute_result"
    }
   ],
   "source": [
    "# Total number of Ground from 1900 till date  \n",
    "df['Ground'].sum()"
   ]
  },
  {
   "cell_type": "code",
   "execution_count": 17,
   "metadata": {},
   "outputs": [],
   "source": [
    "# How have aircraft crash frequencies changed over time?\n",
    "# Feature: A line chart showing the number of crashes per decades\n",
    "# Importance: This provides a clear view of how the frequency of crashes has evolved over time, highlighting any trends or patterns.\n",
    "decade_fatality = df.groupby('Decade')['Fatalities (air)'].sum().reset_index()"
   ]
  },
  {
   "cell_type": "code",
   "execution_count": 18,
   "metadata": {},
   "outputs": [
    {
     "data": {
      "image/png": "[encoded data removed]",
      "text/plain": [
       "<Figure size 1000x600 with 1 Axes>"
      ]
     },
     "metadata": {},
     "output_type": "display_data"
    }
   ],
   "source": [
    "plt.figure(figsize=(10,6))\n",
    "plt.bar(decade_fatality['Decade'],decade_fatality['Fatalities (air)'])\n",
    "plt.xlabel('Decades')\n",
    "plt.ylabel('Total Fatalities')\n",
    "plt.title('Highest Decade with Fatalities')\n",
    "plt.show()"
   ]
  },
  {
   "cell_type": "code",
   "execution_count": 19,
   "metadata": {},
   "outputs": [],
   "source": [
    "# How have aircraft crash ground changed over time?\n",
    "# Feature: A line chart showing the number of ground per decades\n",
    "# Importance: This provides a clear view of how the frequency of crashes has evolved over time, highlighting any trends or patterns.\n",
    "decade_Ground = df.groupby('Decade')['Ground'].sum().reset_index()"
   ]
  },
  {
   "cell_type": "code",
   "execution_count": 20,
   "metadata": {},
   "outputs": [
    {
     "data": {
      "image/png": "[encoded data removed]",
      "text/plain": [
       "<Figure size 1000x600 with 1 Axes>"
      ]
     },
     "metadata": {},
     "output_type": "display_data"
    }
   ],
   "source": [
    "plt.figure(figsize=(10,6))\n",
    "plt.bar(decade_Ground['Decade'],decade_Ground['Ground'])\n",
    "plt.xlabel('Decades')\n",
    "plt.ylabel('Total Ground')\n",
    "plt.title('Highest Decade with Ground')\n",
    "plt.show()"
   ]
  },
  {
   "cell_type": "markdown",
   "metadata": {},
   "source": [
    "# EDA"
   ]
  },
  {
   "cell_type": "code",
   "execution_count": 21,
   "metadata": {},
   "outputs": [
    {
     "data": {
      "text/plain": [
       "np.float64(1.7044687189672294)"
      ]
     },
     "execution_count": 21,
     "metadata": {},
     "output_type": "execute_result"
    }
   ],
   "source": [
    "df['Ground'].mean()\n"
   ]
  },
  {
   "cell_type": "code",
   "execution_count": 22,
   "metadata": {},
   "outputs": [
    {
     "data": {
      "text/plain": [
       "np.float64(55.10511544676803)"
      ]
     },
     "execution_count": 22,
     "metadata": {},
     "output_type": "execute_result"
    }
   ],
   "source": [
    "df['Ground'].std()"
   ]
  },
  {
   "cell_type": "code",
   "execution_count": 23,
   "metadata": {},
   "outputs": [
    {
     "data": {
      "text/plain": [
       "np.float64(22.2188679245283)"
      ]
     },
     "execution_count": 23,
     "metadata": {},
     "output_type": "execute_result"
    }
   ],
   "source": [
    "df['Fatalities (air)'].mean()"
   ]
  },
  {
   "cell_type": "code",
   "execution_count": 24,
   "metadata": {},
   "outputs": [
    {
     "data": {
      "text/plain": [
       "np.float64(0.0)"
      ]
     },
     "execution_count": 24,
     "metadata": {},
     "output_type": "execute_result"
    }
   ],
   "source": [
    "df['Ground'].median()"
   ]
  },
  {
   "cell_type": "code",
   "execution_count": 25,
   "metadata": {},
   "outputs": [
    {
     "data": {
      "text/plain": [
       "np.float64(11.0)"
      ]
     },
     "execution_count": 25,
     "metadata": {},
     "output_type": "execute_result"
    }
   ],
   "source": [
    "df['Fatalities (air)'].median()"
   ]
  },
  {
   "cell_type": "code",
   "execution_count": 26,
   "metadata": {},
   "outputs": [
    {
     "data": {
      "text/plain": [
       "np.float64(34.94892921772949)"
      ]
     },
     "execution_count": 26,
     "metadata": {},
     "output_type": "execute_result"
    }
   ],
   "source": [
    "df['Fatalities (air)'].std()"
   ]
  },
  {
   "cell_type": "code",
   "execution_count": 27,
   "metadata": {},
   "outputs": [
    {
     "name": "stdout",
     "output_type": "stream",
     "text": [
      "            Ground  Fatalities (air)       Aboard       Decade\n",
      "count  5035.000000       5035.000000  5035.000000  5035.000000\n",
      "mean      1.704469         22.218868    31.107249  1966.399206\n",
      "std      55.105115         34.948929    45.740185    25.049088\n",
      "min       0.000000          0.000000     0.000000  1900.000000\n",
      "25%       0.000000          4.000000     7.000000  1950.000000\n",
      "50%       0.000000         11.000000    16.000000  1970.000000\n",
      "75%       0.000000         25.000000    34.500000  1990.000000\n",
      "max    2750.000000        583.000000   644.000000  2020.000000\n"
     ]
    }
   ],
   "source": [
    "# summary statistics\n",
    "print(df.describe())"
   ]
  },
  {
   "cell_type": "markdown",
   "metadata": {},
   "source": [
    "# CHARTS AND GRAPH"
   ]
  },
  {
   "cell_type": "code",
   "execution_count": 28,
   "metadata": {},
   "outputs": [],
   "source": [
    "quarterly_fatality = df.groupby('Quarter')['Fatalities (air)'].sum()"
   ]
  },
  {
   "cell_type": "code",
   "execution_count": 29,
   "metadata": {},
   "outputs": [
    {
     "data": {
      "image/png": "[encoded data removed]",
      "text/plain": [
       "<Figure size 800x600 with 1 Axes>"
      ]
     },
     "metadata": {},
     "output_type": "display_data"
    }
   ],
   "source": [
    "plt.figure(figsize=(8,6))\n",
    "quarterly_fatality.plot(kind='bar')\n",
    "plt.title('Quarterly Fatalities')\n",
    "plt.xlabel('Quarter')\n",
    "plt.ylabel('Number of fatalities')\n",
    "plt.show()"
   ]
  },
  {
   "cell_type": "code",
   "execution_count": 30,
   "metadata": {},
   "outputs": [],
   "source": [
    "quarterly_Aboard = df.groupby('Quarter')['Aboard'].sum()"
   ]
  },
  {
   "cell_type": "code",
   "execution_count": 31,
   "metadata": {},
   "outputs": [
    {
     "data": {
      "image/png": "[encoded data removed]",
      "text/plain": [
       "<Figure size 800x600 with 1 Axes>"
      ]
     },
     "metadata": {},
     "output_type": "display_data"
    }
   ],
   "source": [
    "plt.figure(figsize=(8,6))\n",
    "quarterly_Aboard.plot(kind='bar')\n",
    "plt.title('Quarterly Aboard')\n",
    "plt.xlabel('Quarter')\n",
    "plt.ylabel('Number of Aboard')\n",
    "plt.show()"
   ]
  },
  {
   "cell_type": "markdown",
   "metadata": {},
   "source": [
    "# FINDINGS AND RECOMMENDATIONS"
   ]
  },
  {
   "cell_type": "markdown",
   "metadata": {},
   "source": [
    "## FINDINGS \n",
    "\n",
    "1. Mechanical failure: engine or system malfunctions led to the crash.\n",
    "\n",
    "2. There are more fatalities during the third quarter, could it be the weather or the number of people on board \n",
    "\n",
    "3. We have more grounds in 2000 decades.\n",
    "\n",
    "## RECOMMENDATIONS\n",
    "\n",
    "1. Enhance maintenance procedure: impliment more rigorous maintenance scheduke or procedures.\n",
    "\n",
    "2. There should be a proper update weather forecasting during the third quarter, and also regulate the amount of people boarding an airplane \n",
    "\n",
    "3. what was done in the 2000 decade for having more survivors, it should be taken note of "
   ]
  }
 ],
 "metadata": {
  "kernelspec": {
   "display_name": "Python 3",
   "language": "python",
   "name": "python3"
  },
  "language_info": {
   "codemirror_mode": {
    "name": "ipython",
    "version": 3
   },
   "file_extension": ".py",
   "mimetype": "text/x-python",
   "name": "python",
   "nbconvert_exporter": "python",
   "pygments_lexer": "ipython3",
   "version": "3.12.4"
  }
 },
 "nbformat": 4,
 "nbformat_minor": 2
}
